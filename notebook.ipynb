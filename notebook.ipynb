{
 "cells": [
  {
   "cell_type": "markdown",
   "id": "85dc467a-5830-44c0-ab74-435be0e5593c",
   "metadata": {},
   "source": [
    "Pneumonia is one of the leading respiratory illnesses worldwide, and its timely and accurate diagnosis is essential for effective treatment. Manually reviewing chest X-rays is a critical step in this process, and AI can provide valuable support by helping to expedite the assessment. In your role as a consultant data scientist, you will test the ability of a deep learning model to distinguish pneumonia cases from normal images of lungs in chest X-rays.\n",
    "\n",
    "By fine-tuning a pre-trained convolutional neural network, specifically the ResNet-18 model, your task is to classify X-ray images into two categories: normal lungs and those affected by pneumonia. You can leverage its already trained weights and get an accurate classifier trained faster and with fewer resources.\n",
    "\n",
    "## The Data\n",
    "\n",
    "<img src=\"x-rays_sample.png\" align=\"center\"/>\n",
    "&nbsp\n",
    "\n",
    "You have a dataset of chest X-rays that have been preprocessed for use with a ResNet-18 model. You can see a sample of 5 images from each category above. Upon unzipping the `chestxrays.zip` file (code provided below), you will find your dataset inside the `data/chestxrays` folder divided into `test` and `train` folders. \n",
    "\n",
    "There are 150 training images and 50 testing images for each category, NORMAL and PNEUMONIA (300 and 100 in total). For your convenience, this data has already been loaded into a `train_loader` and a `test_loader` using the `DataLoader` class from the PyTorch library. "
   ]
  },
  {
   "cell_type": "code",
   "execution_count": null,
   "id": "0f522b79-2a5a-4472-adb9-0d924870bfa1",
   "metadata": {
    "executionCancelledAt": null,
    "executionTime": 5284,
    "lastExecutedAt": 1738625077437,
    "lastExecutedByKernel": "44fae697-d665-400e-a295-eff98db041ca",
    "lastScheduledRunId": null,
    "lastSuccessfullyExecutedCode": "# # Make sure to run this cell to use torchmetrics.\n!pip install torch torchvision torchmetrics",
    "outputsMetadata": {
     "0": {
      "height": 616,
      "type": "stream"
     }
    }
   },
   "outputs": [
    {
     "name": "stdout",
     "output_type": "stream",
     "text": [
      "Defaulting to user installation because normal site-packages is not writeable\n",
      "Requirement already satisfied: torch in /usr/local/lib/python3.8/dist-packages (1.13.0)\n",
      "Requirement already satisfied: torchvision in /usr/local/lib/python3.8/dist-packages (0.14.0)\n",
      "Collecting torchmetrics\n",
      "  Downloading torchmetrics-1.5.2-py3-none-any.whl.metadata (20 kB)\n",
      "Requirement already satisfied: typing-extensions in /usr/local/lib/python3.8/dist-packages (from torch) (4.12.2)\n",
      "Requirement already satisfied: nvidia-cuda-runtime-cu11==11.7.99 in /usr/local/lib/python3.8/dist-packages (from torch) (11.7.99)\n",
      "Requirement already satisfied: nvidia-cudnn-cu11==8.5.0.96 in /usr/local/lib/python3.8/dist-packages (from torch) (8.5.0.96)\n",
      "Requirement already satisfied: nvidia-cublas-cu11==11.10.3.66 in /usr/local/lib/python3.8/dist-packages (from torch) (11.10.3.66)\n",
      "Requirement already satisfied: nvidia-cuda-nvrtc-cu11==11.7.99 in /usr/local/lib/python3.8/dist-packages (from torch) (11.7.99)\n",
      "Requirement already satisfied: setuptools in /usr/local/lib/python3.8/dist-packages (from nvidia-cublas-cu11==11.10.3.66->torch) (65.6.3)\n",
      "Requirement already satisfied: wheel in /usr/local/lib/python3.8/dist-packages (from nvidia-cublas-cu11==11.10.3.66->torch) (0.38.4)\n",
      "Requirement already satisfied: numpy in /usr/local/lib/python3.8/dist-packages (from torchvision) (1.23.2)\n",
      "Requirement already satisfied: requests in /usr/local/lib/python3.8/dist-packages (from torchvision) (2.31.0)\n",
      "Requirement already satisfied: pillow!=8.3.*,>=5.3.0 in /usr/local/lib/python3.8/dist-packages (from torchvision) (9.2.0)\n",
      "Requirement already satisfied: packaging>17.1 in /usr/local/lib/python3.8/dist-packages (from torchmetrics) (23.2)\n",
      "Collecting lightning-utilities>=0.8.0 (from torchmetrics)\n",
      "  Downloading lightning_utilities-0.11.9-py3-none-any.whl.metadata (5.2 kB)\n",
      "Requirement already satisfied: charset-normalizer<4,>=2 in /usr/local/lib/python3.8/dist-packages (from requests->torchvision) (2.0.12)\n",
      "Requirement already satisfied: idna<4,>=2.5 in /usr/lib/python3/dist-packages (from requests->torchvision) (2.8)\n",
      "Requirement already satisfied: urllib3<3,>=1.21.1 in /usr/lib/python3/dist-packages (from requests->torchvision) (1.25.8)\n",
      "Requirement already satisfied: certifi>=2017.4.17 in /usr/lib/python3/dist-packages (from requests->torchvision) (2019.11.28)\n",
      "Downloading torchmetrics-1.5.2-py3-none-any.whl (891 kB)\n",
      "\u001b[2K   \u001b[90m━━━━━━━━━━━━━━━━━━━━━━━━━━━━━━━━━━━━━━━━\u001b[0m \u001b[32m891.4/891.4 kB\u001b[0m \u001b[31m59.9 MB/s\u001b[0m eta \u001b[36m0:00:00\u001b[0m\n",
      "\u001b[?25hDownloading lightning_utilities-0.11.9-py3-none-any.whl (28 kB)\n",
      "Installing collected packages: lightning-utilities, torchmetrics\n",
      "Successfully installed lightning-utilities-0.11.9 torchmetrics-1.5.2\n",
      "\n",
      "\u001b[1m[\u001b[0m\u001b[34;49mnotice\u001b[0m\u001b[1;39;49m]\u001b[0m\u001b[39;49m A new release of pip is available: \u001b[0m\u001b[31;49m24.3.1\u001b[0m\u001b[39;49m -> \u001b[0m\u001b[32;49m25.0\u001b[0m\n",
      "\u001b[1m[\u001b[0m\u001b[34;49mnotice\u001b[0m\u001b[1;39;49m]\u001b[0m\u001b[39;49m To update, run: \u001b[0m\u001b[32;49mpython3 -m pip install --upgrade pip\u001b[0m\n"
     ]
    }
   ],
   "source": [
    "\n",
    "!pip install torch torchvision torchmetrics"
   ]
  },
  {
   "cell_type": "code",
   "execution_count": null,
   "id": "cb1bedee-bcd5-4c80-a5ed-93df89af0295",
   "metadata": {
    "executionCancelledAt": null,
    "executionTime": 5452,
    "lastExecutedAt": 1738625150211,
    "lastExecutedByKernel": "44fae697-d665-400e-a295-eff98db041ca",
    "lastScheduledRunId": null,
    "lastSuccessfullyExecutedCode": "# Import required libraries\n# -------------------------\n# Data loading\nimport random\nimport numpy as np\nfrom torchvision.transforms import transforms\nfrom torchvision.datasets import ImageFolder\nfrom torch.utils.data import DataLoader\n\n# Train model\nimport torch\nfrom torchvision import models\nimport torch.nn as nn\nimport torch.optim as optim\n\n# Evaluate model\nfrom torchmetrics import Accuracy, F1Score\n\n# Set random seeds for reproducibility\ntorch.manual_seed(101010)\nnp.random.seed(101010)\nrandom.seed(101010)"
   },
   "outputs": [],
   "source": [
    "\n",
    "# Data loading\n",
    "import random\n",
    "import numpy as np\n",
    "from torchvision.transforms import transforms\n",
    "from torchvision.datasets import ImageFolder\n",
    "from torch.utils.data import DataLoader\n",
    "\n",
    "# Train model\n",
    "import torch\n",
    "from torchvision import models\n",
    "import torch.nn as nn\n",
    "import torch.optim as optim\n",
    "\n",
    "# Evaluate model\n",
    "from torchmetrics import Accuracy, F1Score\n",
    "\n",
    "# Set random seeds for reproducibility\n",
    "torch.manual_seed(101010)\n",
    "np.random.seed(101010)\n",
    "random.seed(101010)"
   ]
  },
  {
   "cell_type": "code",
   "execution_count": 3,
   "id": "dd91680d-cb63-4876-9a51-4ee6bb250c7d",
   "metadata": {
    "executionCancelledAt": null,
    "executionTime": 6544,
    "lastExecutedAt": 1738625162405,
    "lastExecutedByKernel": "44fae697-d665-400e-a295-eff98db041ca",
    "lastScheduledRunId": null,
    "lastSuccessfullyExecutedCode": "import os\nimport zipfile\n\n# Unzip the data folder\nif not os.path.exists('data/chestxrays'):\n    with zipfile.ZipFile('data/chestxrays.zip', 'r') as zip_ref:\n        zip_ref.extractall('data')"
   },
   "outputs": [],
   "source": [
    "import os\n",
    "import zipfile\n",
    "\n",
    "# Unzip the data folder\n",
    "if not os.path.exists('data/chestxrays'):\n",
    "    with zipfile.ZipFile('data/chestxrays.zip', 'r') as zip_ref:\n",
    "        zip_ref.extractall('data')"
   ]
  },
  {
   "cell_type": "code",
   "execution_count": 4,
   "id": "0cc5591a-8dc1-4d7f-88d2-3b1a59fb2a5f",
   "metadata": {
    "executionCancelledAt": null,
    "executionTime": 63,
    "lastExecutedAt": 1738625180756,
    "lastExecutedByKernel": "44fae697-d665-400e-a295-eff98db041ca",
    "lastScheduledRunId": null,
    "lastSuccessfullyExecutedCode": "# Define the transformations to apply to the images for use with ResNet-18\ntransform_mean = [0.485, 0.456, 0.406]\ntransform_std =[0.229, 0.224, 0.225]\ntransform = transforms.Compose([transforms.ToTensor(), \n                                transforms.Normalize(mean=transform_mean, std=transform_std)])\n\n# Apply the image transforms\ntrain_dataset = ImageFolder('data/chestxrays/train', transform=transform)\ntest_dataset = ImageFolder('data/chestxrays/test', transform=transform)\n\n# Create data loaders\ntrain_loader = DataLoader(train_dataset, batch_size=len(train_dataset) // 2, shuffle=True)\ntest_loader = DataLoader(test_dataset, batch_size=len(test_dataset))"
   },
   "outputs": [],
   "source": [
    "# Define the transformations to apply to the images for use with ResNet-18\n",
    "transform_mean = [0.485, 0.456, 0.406]\n",
    "transform_std =[0.229, 0.224, 0.225]\n",
    "transform = transforms.Compose([transforms.ToTensor(), \n",
    "                                transforms.Normalize(mean=transform_mean, std=transform_std)])\n",
    "\n",
    "# Apply the image transforms\n",
    "train_dataset = ImageFolder('data/chestxrays/train', transform=transform)\n",
    "test_dataset = ImageFolder('data/chestxrays/test', transform=transform)\n",
    "\n",
    "# Create data loaders\n",
    "train_loader = DataLoader(train_dataset, batch_size=len(train_dataset) // 2, shuffle=True)\n",
    "test_loader = DataLoader(test_dataset, batch_size=len(test_dataset))"
   ]
  },
  {
   "cell_type": "code",
   "execution_count": null,
   "id": "c99cf95b-83f3-49e4-9777-4e70736452d8",
   "metadata": {
    "executionCancelledAt": null,
    "executionTime": null,
    "lastExecutedAt": null,
    "lastExecutedByKernel": null,
    "lastScheduledRunId": null,
    "lastSuccessfullyExecutedCode": null,
    "outputsMetadata": {
     "0": {
      "height": 59,
      "type": "stream"
     },
     "2": {
      "height": 80,
      "type": "stream"
     }
    }
   },
   "outputs": [
    {
     "name": "stderr",
     "output_type": "stream",
     "text": [
      "Downloading: \"https://download.pytorch.org/models/resnet18-f37072fd.pth\" to /home/repl/.cache/torch/hub/checkpoints/resnet18-f37072fd.pth\n"
     ]
    },
    {
     "data": {
      "application/json": {
       "ascii": false,
       "bar_format": null,
       "colour": null,
       "elapsed": 0.007600307464599609,
       "initial": 0,
       "n": 0,
       "ncols": null,
       "nrows": null,
       "postfix": null,
       "prefix": "",
       "rate": null,
       "total": 46830571,
       "unit": "B",
       "unit_divisor": 1024,
       "unit_scale": true
      },
      "application/vnd.jupyter.widget-view+json": {
       "model_id": "7e0c1820a95a48dd90bcb78672a8bea4",
       "version_major": 2,
       "version_minor": 0
      },
      "text/plain": [
       "  0%|          | 0.00/44.7M [00:00<?, ?B/s]"
      ]
     },
     "metadata": {},
     "output_type": "display_data"
    },
    {
     "name": "stdout",
     "output_type": "stream",
     "text": [
      "Epoch [1/3], train loss: 1.3915, train acc: 0.4567\n",
      "Epoch [2/3], train loss: 0.8973, train acc: 0.4633\n",
      "Epoch [3/3], train loss: 0.9199, train acc: 0.5033\n"
     ]
    }
   ],
   "source": [
    "\n",
    "# # Loading the pre-trained ResNet-18 model\n",
    "resnet18 = models.resnet18(weights=models.ResNet18_Weights.DEFAULT)\n",
    "\n",
    "#--------------------------\n",
    "# Modifying the model\n",
    "#--------------------------\n",
    "\n",
    "# Freeze the parameters of the model\n",
    "for param in resnet18.parameters():\n",
    "    param.requires_grad = False\n",
    "\n",
    "# Modify the final layer for binary classification\n",
    "resnet18.fc = nn.Linear(resnet18.fc.in_features, 1)\n",
    "\n",
    "#------------------------------\n",
    "#  Defining the training loop\n",
    "#------------------------------\n",
    "\n",
    "# Model training/fine-tuning loop\n",
    "def train(model, train_loader, criterion, optimizer, num_epochs):\n",
    "    \n",
    "    # Train the model for the specified number of epochs\n",
    "    for epoch in range(num_epochs):\n",
    "        # Set the model to train mode\n",
    "        model.train()\n",
    "\n",
    "        # Initialize the running loss and accuracy\n",
    "        running_loss = 0.0\n",
    "        running_accuracy = 0\n",
    "\n",
    "        # Iterate over the batches of the train loader\n",
    "        for inputs, labels in train_loader:\n",
    "\n",
    "            # Zero the optimizer gradients\n",
    "            optimizer.zero_grad()\n",
    "            \n",
    "            # Ensuring labels have the same dimensions as outputs\n",
    "            labels = labels.float().unsqueeze(1)\n",
    "\n",
    "            # Forward pass\n",
    "            outputs = model(inputs)\n",
    "            preds = torch.sigmoid(outputs) > 0.5 # Binary classification\n",
    "            loss = criterion(outputs, labels)\n",
    "\n",
    "            # Backward pass and optimizer step\n",
    "            loss.backward()\n",
    "            optimizer.step()\n",
    "\n",
    "            # Updating the running loss and accuracy\n",
    "            running_loss += loss.item() * inputs.size(0)\n",
    "            running_accuracy += torch.sum(preds == labels.data)\n",
    "\n",
    "        # Calculating the train loss and accuracy for the current epoch\n",
    "        train_loss = running_loss / len(train_dataset)\n",
    "        train_acc = running_accuracy.double() / len(train_dataset)\n",
    "\n",
    "        # Printing the epoch results\n",
    "        print('Epoch [{}/{}], train loss: {:.4f}, train acc: {:.4f}'\n",
    "              .format(epoch+1, num_epochs, train_loss, train_acc))\n",
    "\n",
    "#-------------------------\n",
    "#  Fine-tune the model\n",
    "#-------------------------        \n",
    "        \n",
    "# Set the model to ResNet-18\n",
    "model = resnet18\n",
    "\n",
    "# Fine-tune the ResNet-18 model for 3 epochs using the train_loader\n",
    "optimizer = torch.optim.Adam(model.fc.parameters(), lr=0.01)\n",
    "criterion = torch.nn.BCEWithLogitsLoss()\n",
    "train(model, train_loader, criterion, optimizer, num_epochs=3)\n"
   ]
  },
  {
   "cell_type": "markdown",
   "id": "70761893-e66f-40fe-8862-dac9b18a13ab",
   "metadata": {},
   "source": [
    "### Below is the provided model evaluation code. Run the below cell to help you evaluate the accuracy and F1-score of your fine-tuned model."
   ]
  },
  {
   "cell_type": "code",
   "execution_count": null,
   "id": "7e0e1ad6-2f78-4a14-943b-8cc7c9dfe960",
   "metadata": {
    "executionCancelledAt": null,
    "executionTime": null,
    "lastExecutedAt": null,
    "lastExecutedByKernel": null,
    "lastScheduledRunId": null,
    "lastSuccessfullyExecutedCode": null,
    "outputsMetadata": {
     "0": {
      "height": 80,
      "type": "stream"
     }
    }
   },
   "outputs": [
    {
     "name": "stdout",
     "output_type": "stream",
     "text": [
      "\n",
      "Test accuracy: 0.580\n",
      "Test F1-score: 0.704\n"
     ]
    }
   ],
   "source": [
    "#-------------------\n",
    "# Model Evaluation\n",
    "#-------------------\n",
    "\n",
    "# Set model to evaluation mode\n",
    "model = resnet18\n",
    "model.eval()\n",
    "\n",
    "# Initialize metrics for accuracy and F1 score\n",
    "accuracy_metric = Accuracy(task=\"binary\")\n",
    "f1_metric = F1Score(task=\"binary\")\n",
    "\n",
    "# Creating lists to  store all predictions and labels\n",
    "all_preds = []\n",
    "all_labels = []\n",
    "\n",
    "# Disabling gradient calculation for evaluation\n",
    "with torch.no_grad():\n",
    "  for inputs, labels in test_loader:\n",
    "    # Forward pass\n",
    "    outputs = model(inputs)\n",
    "    preds = torch.sigmoid(outputs).round()  # Round to 0 or 1\n",
    "\n",
    "    # Extending the lists with predictions and labels\n",
    "    all_preds.extend(preds.tolist())\n",
    "    all_labels.extend(labels.unsqueeze(1).tolist())\n",
    "\n",
    "    # Converting lists back to tensors\n",
    "    all_preds = torch.tensor(all_preds)\n",
    "    all_labels = torch.tensor(all_labels)\n",
    "\n",
    "    # Calculating accuracy and F1 score\n",
    "    test_accuracy = accuracy_metric(all_preds, all_labels).item()\n",
    "    test_f1_score = f1_metric(all_preds, all_labels).item()\n",
    "    \n",
    "print(f\"\\nTest accuracy: {test_accuracy:.3f}\\nTest F1-score: {test_f1_score:.3f}\")"
   ]
  },
  {
   "cell_type": "code",
   "execution_count": 11,
   "id": "4568977b-3129-430f-861b-7849b5ccae45",
   "metadata": {
    "executionCancelledAt": null,
    "executionTime": 1643,
    "lastExecutedAt": 1738625962572,
    "lastExecutedByKernel": "44fae697-d665-400e-a295-eff98db041ca",
    "lastScheduledRunId": null,
    "lastSuccessfullyExecutedCode": "import os, random, shutil\n\n# Function to move 50 random files from class folder in training to validation folder\ndef move_files(src_class_dir, dest_class_dir, n=50):\n    if not os.path.exists(dest_class_dir):\n        os.makedirs(dest_class_dir)\n    files = os.listdir(src_class_dir)\n    random_files = random.sample(files, n)\n    for f in random_files:\n        shutil.move(os.path.join(src_class_dir, f), os.path.join(dest_class_dir, f))\n\n# Move 50 images from each class to validation folder\nmove_files('data/chestxrays/train/NORMAL', 'data/chestxrays/val/NORMAL')\nmove_files('data/chestxrays/train/PNEUMONIA', 'data/chestxrays/val/PNEUMONIA')"
   },
   "outputs": [],
   "source": [
    "import os, random, shutil\n",
    "\n",
    "# Function to move 50 random files from class folder in training to validation folder\n",
    "def move_files(src_class_dir, dest_class_dir, n=50):\n",
    "    if not os.path.exists(dest_class_dir):\n",
    "        os.makedirs(dest_class_dir)\n",
    "    files = os.listdir(src_class_dir)\n",
    "    random_files = random.sample(files, n)\n",
    "    for f in random_files:\n",
    "        shutil.move(os.path.join(src_class_dir, f), os.path.join(dest_class_dir, f))\n",
    "\n",
    "# Move 50 images from each class to validation folder\n",
    "move_files('data/chestxrays/train/NORMAL', 'data/chestxrays/val/NORMAL')\n",
    "move_files('data/chestxrays/train/PNEUMONIA', 'data/chestxrays/val/PNEUMONIA')"
   ]
  }
 ],
 "metadata": {
  "colab": {
   "name": "Welcome to DataCamp Workspaces.ipynb",
   "provenance": []
  },
  "editor": "DataLab",
  "kernelspec": {
   "display_name": "Python 3 (ipykernel)",
   "language": "python",
   "name": "python3"
  },
  "language_info": {
   "codemirror_mode": {
    "name": "ipython",
    "version": 3
   },
   "file_extension": ".py",
   "mimetype": "text/x-python",
   "name": "python",
   "nbconvert_exporter": "python",
   "pygments_lexer": "ipython3",
   "version": "3.8.10"
  }
 },
 "nbformat": 4,
 "nbformat_minor": 5
}
